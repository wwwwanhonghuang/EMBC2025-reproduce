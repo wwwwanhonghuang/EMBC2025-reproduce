{
 "cells": [
  {
   "cell_type": "code",
   "execution_count": 11,
   "id": "85dd6d0e-f81f-41d4-8e56-e17b52370588",
   "metadata": {},
   "outputs": [],
   "source": [
    "import numpy as np\n",
    "import os\n",
    "import mne"
   ]
  },
  {
   "cell_type": "code",
   "execution_count": 9,
   "id": "6b505c75-605c-4c9f-a5e7-f060cef9a368",
   "metadata": {},
   "outputs": [],
   "source": [
    "dataset_base_path = 'data/dataset/epileptic_eeg_dataset/Raw_EDF_Files'"
   ]
  },
  {
   "cell_type": "code",
   "execution_count": 38,
   "id": "9fbc0e73-86b5-472d-92da-80c3c86d76df",
   "metadata": {},
   "outputs": [
    {
     "name": "stdout",
     "output_type": "stream",
     "text": [
      "Extracting EDF parameters from /home/wanhong-huang/EMBC2025-reproduce/data/dataset/epileptic_eeg_dataset/Raw_EDF_Files/p15_Record4.edf...\n",
      "EDF file detected\n",
      "Setting channel info structure...\n",
      "Creating raw.info structure...\n"
     ]
    },
    {
     "name": "stderr",
     "output_type": "stream",
     "text": [
      "/tmp/ipykernel_385118/4211701222.py:6: RuntimeWarning: Channels contain different highpass filters. Highest filter setting will be stored.\n",
      "  raw = mne.io.read_raw(os.path.join(dataset_base_path, raw_edf_file))\n",
      "/tmp/ipykernel_385118/4211701222.py:6: RuntimeWarning: Channels contain different lowpass filters. Lowest filter setting will be stored.\n",
      "  raw = mne.io.read_raw(os.path.join(dataset_base_path, raw_edf_file))\n"
     ]
    },
    {
     "name": "stdout",
     "output_type": "stream",
     "text": [
      "Extracting EDF parameters from /home/wanhong-huang/EMBC2025-reproduce/data/dataset/epileptic_eeg_dataset/Raw_EDF_Files/p12_Record2.edf...\n",
      "EDF file detected\n",
      "Setting channel info structure...\n",
      "Creating raw.info structure...\n",
      "Extracting EDF parameters from /home/wanhong-huang/EMBC2025-reproduce/data/dataset/epileptic_eeg_dataset/Raw_EDF_Files/p12_Record1.edf...\n",
      "EDF file detected\n",
      "Setting channel info structure...\n",
      "Creating raw.info structure...\n"
     ]
    },
    {
     "name": "stderr",
     "output_type": "stream",
     "text": [
      "/tmp/ipykernel_385118/4211701222.py:6: RuntimeWarning: Channels contain different highpass filters. Highest filter setting will be stored.\n",
      "  raw = mne.io.read_raw(os.path.join(dataset_base_path, raw_edf_file))\n",
      "/tmp/ipykernel_385118/4211701222.py:6: RuntimeWarning: Channels contain different lowpass filters. Lowest filter setting will be stored.\n",
      "  raw = mne.io.read_raw(os.path.join(dataset_base_path, raw_edf_file))\n",
      "/tmp/ipykernel_385118/4211701222.py:6: RuntimeWarning: Channels contain different highpass filters. Highest filter setting will be stored.\n",
      "  raw = mne.io.read_raw(os.path.join(dataset_base_path, raw_edf_file))\n",
      "/tmp/ipykernel_385118/4211701222.py:6: RuntimeWarning: Channels contain different lowpass filters. Lowest filter setting will be stored.\n",
      "  raw = mne.io.read_raw(os.path.join(dataset_base_path, raw_edf_file))\n"
     ]
    },
    {
     "name": "stdout",
     "output_type": "stream",
     "text": [
      "Extracting EDF parameters from /home/wanhong-huang/EMBC2025-reproduce/data/dataset/epileptic_eeg_dataset/Raw_EDF_Files/p11_Record2.edf...\n",
      "EDF file detected\n",
      "Setting channel info structure...\n",
      "Creating raw.info structure...\n",
      "Extracting EDF parameters from /home/wanhong-huang/EMBC2025-reproduce/data/dataset/epileptic_eeg_dataset/Raw_EDF_Files/p14_Record1.edf...\n",
      "EDF file detected\n",
      "Setting channel info structure...\n",
      "Creating raw.info structure...\n"
     ]
    },
    {
     "name": "stderr",
     "output_type": "stream",
     "text": [
      "/tmp/ipykernel_385118/4211701222.py:6: RuntimeWarning: Channels contain different highpass filters. Highest filter setting will be stored.\n",
      "  raw = mne.io.read_raw(os.path.join(dataset_base_path, raw_edf_file))\n",
      "/tmp/ipykernel_385118/4211701222.py:6: RuntimeWarning: Channels contain different lowpass filters. Lowest filter setting will be stored.\n",
      "  raw = mne.io.read_raw(os.path.join(dataset_base_path, raw_edf_file))\n",
      "/tmp/ipykernel_385118/4211701222.py:6: RuntimeWarning: Channels contain different highpass filters. Highest filter setting will be stored.\n",
      "  raw = mne.io.read_raw(os.path.join(dataset_base_path, raw_edf_file))\n",
      "/tmp/ipykernel_385118/4211701222.py:6: RuntimeWarning: Channels contain different lowpass filters. Lowest filter setting will be stored.\n",
      "  raw = mne.io.read_raw(os.path.join(dataset_base_path, raw_edf_file))\n"
     ]
    },
    {
     "name": "stdout",
     "output_type": "stream",
     "text": [
      "Extracting EDF parameters from /home/wanhong-huang/EMBC2025-reproduce/data/dataset/epileptic_eeg_dataset/Raw_EDF_Files/p11_Record4.edf...\n",
      "EDF file detected\n",
      "Setting channel info structure...\n",
      "Creating raw.info structure...\n"
     ]
    },
    {
     "name": "stderr",
     "output_type": "stream",
     "text": [
      "/tmp/ipykernel_385118/4211701222.py:6: RuntimeWarning: Channels contain different highpass filters. Highest filter setting will be stored.\n",
      "  raw = mne.io.read_raw(os.path.join(dataset_base_path, raw_edf_file))\n",
      "/tmp/ipykernel_385118/4211701222.py:6: RuntimeWarning: Channels contain different lowpass filters. Lowest filter setting will be stored.\n",
      "  raw = mne.io.read_raw(os.path.join(dataset_base_path, raw_edf_file))\n"
     ]
    },
    {
     "name": "stdout",
     "output_type": "stream",
     "text": [
      "Extracting EDF parameters from /home/wanhong-huang/EMBC2025-reproduce/data/dataset/epileptic_eeg_dataset/Raw_EDF_Files/p13_Record3.edf...\n",
      "EDF file detected\n",
      "Setting channel info structure...\n",
      "Creating raw.info structure...\n"
     ]
    },
    {
     "name": "stderr",
     "output_type": "stream",
     "text": [
      "/tmp/ipykernel_385118/4211701222.py:6: RuntimeWarning: Channels contain different highpass filters. Highest filter setting will be stored.\n",
      "  raw = mne.io.read_raw(os.path.join(dataset_base_path, raw_edf_file))\n",
      "/tmp/ipykernel_385118/4211701222.py:6: RuntimeWarning: Channels contain different lowpass filters. Lowest filter setting will be stored.\n",
      "  raw = mne.io.read_raw(os.path.join(dataset_base_path, raw_edf_file))\n"
     ]
    },
    {
     "name": "stdout",
     "output_type": "stream",
     "text": [
      "Extracting EDF parameters from /home/wanhong-huang/EMBC2025-reproduce/data/dataset/epileptic_eeg_dataset/Raw_EDF_Files/p12_Record3.edf...\n",
      "EDF file detected\n",
      "Setting channel info structure...\n",
      "Creating raw.info structure...\n"
     ]
    },
    {
     "name": "stderr",
     "output_type": "stream",
     "text": [
      "/tmp/ipykernel_385118/4211701222.py:6: RuntimeWarning: Channels contain different highpass filters. Highest filter setting will be stored.\n",
      "  raw = mne.io.read_raw(os.path.join(dataset_base_path, raw_edf_file))\n",
      "/tmp/ipykernel_385118/4211701222.py:6: RuntimeWarning: Channels contain different lowpass filters. Lowest filter setting will be stored.\n",
      "  raw = mne.io.read_raw(os.path.join(dataset_base_path, raw_edf_file))\n"
     ]
    },
    {
     "name": "stdout",
     "output_type": "stream",
     "text": [
      "Extracting EDF parameters from /home/wanhong-huang/EMBC2025-reproduce/data/dataset/epileptic_eeg_dataset/Raw_EDF_Files/p15_Record3.edf...\n",
      "EDF file detected\n",
      "Setting channel info structure...\n",
      "Creating raw.info structure...\n"
     ]
    },
    {
     "name": "stderr",
     "output_type": "stream",
     "text": [
      "/tmp/ipykernel_385118/4211701222.py:6: RuntimeWarning: Channels contain different highpass filters. Highest filter setting will be stored.\n",
      "  raw = mne.io.read_raw(os.path.join(dataset_base_path, raw_edf_file))\n",
      "/tmp/ipykernel_385118/4211701222.py:6: RuntimeWarning: Channels contain different lowpass filters. Lowest filter setting will be stored.\n",
      "  raw = mne.io.read_raw(os.path.join(dataset_base_path, raw_edf_file))\n"
     ]
    },
    {
     "name": "stdout",
     "output_type": "stream",
     "text": [
      "Extracting EDF parameters from /home/wanhong-huang/EMBC2025-reproduce/data/dataset/epileptic_eeg_dataset/Raw_EDF_Files/p11_Record3.edf...\n",
      "EDF file detected\n",
      "Setting channel info structure...\n",
      "Creating raw.info structure...\n"
     ]
    },
    {
     "name": "stderr",
     "output_type": "stream",
     "text": [
      "/tmp/ipykernel_385118/4211701222.py:6: RuntimeWarning: Channels contain different highpass filters. Highest filter setting will be stored.\n",
      "  raw = mne.io.read_raw(os.path.join(dataset_base_path, raw_edf_file))\n",
      "/tmp/ipykernel_385118/4211701222.py:6: RuntimeWarning: Channels contain different lowpass filters. Lowest filter setting will be stored.\n",
      "  raw = mne.io.read_raw(os.path.join(dataset_base_path, raw_edf_file))\n"
     ]
    },
    {
     "name": "stdout",
     "output_type": "stream",
     "text": [
      "Extracting EDF parameters from /home/wanhong-huang/EMBC2025-reproduce/data/dataset/epileptic_eeg_dataset/Raw_EDF_Files/p15_Record2.edf...\n",
      "EDF file detected\n",
      "Setting channel info structure...\n",
      "Creating raw.info structure...\n"
     ]
    },
    {
     "name": "stderr",
     "output_type": "stream",
     "text": [
      "/tmp/ipykernel_385118/4211701222.py:6: RuntimeWarning: Channels contain different highpass filters. Highest filter setting will be stored.\n",
      "  raw = mne.io.read_raw(os.path.join(dataset_base_path, raw_edf_file))\n",
      "/tmp/ipykernel_385118/4211701222.py:6: RuntimeWarning: Channels contain different lowpass filters. Lowest filter setting will be stored.\n",
      "  raw = mne.io.read_raw(os.path.join(dataset_base_path, raw_edf_file))\n"
     ]
    },
    {
     "name": "stdout",
     "output_type": "stream",
     "text": [
      "Extracting EDF parameters from /home/wanhong-huang/EMBC2025-reproduce/data/dataset/epileptic_eeg_dataset/Raw_EDF_Files/p13_Record2.edf...\n",
      "EDF file detected\n",
      "Setting channel info structure...\n",
      "Creating raw.info structure...\n"
     ]
    },
    {
     "name": "stderr",
     "output_type": "stream",
     "text": [
      "/tmp/ipykernel_385118/4211701222.py:6: RuntimeWarning: Channels contain different highpass filters. Highest filter setting will be stored.\n",
      "  raw = mne.io.read_raw(os.path.join(dataset_base_path, raw_edf_file))\n",
      "/tmp/ipykernel_385118/4211701222.py:6: RuntimeWarning: Channels contain different lowpass filters. Lowest filter setting will be stored.\n",
      "  raw = mne.io.read_raw(os.path.join(dataset_base_path, raw_edf_file))\n"
     ]
    },
    {
     "name": "stdout",
     "output_type": "stream",
     "text": [
      "Extracting EDF parameters from /home/wanhong-huang/EMBC2025-reproduce/data/dataset/epileptic_eeg_dataset/Raw_EDF_Files/p14_Record3.edf...\n",
      "EDF file detected\n",
      "Setting channel info structure...\n",
      "Creating raw.info structure...\n"
     ]
    },
    {
     "name": "stderr",
     "output_type": "stream",
     "text": [
      "/tmp/ipykernel_385118/4211701222.py:6: RuntimeWarning: Channels contain different highpass filters. Highest filter setting will be stored.\n",
      "  raw = mne.io.read_raw(os.path.join(dataset_base_path, raw_edf_file))\n",
      "/tmp/ipykernel_385118/4211701222.py:6: RuntimeWarning: Channels contain different lowpass filters. Lowest filter setting will be stored.\n",
      "  raw = mne.io.read_raw(os.path.join(dataset_base_path, raw_edf_file))\n"
     ]
    },
    {
     "name": "stdout",
     "output_type": "stream",
     "text": [
      "Extracting EDF parameters from /home/wanhong-huang/EMBC2025-reproduce/data/dataset/epileptic_eeg_dataset/Raw_EDF_Files/p15_Record1.edf...\n",
      "EDF file detected\n",
      "Setting channel info structure...\n",
      "Creating raw.info structure...\n"
     ]
    },
    {
     "name": "stderr",
     "output_type": "stream",
     "text": [
      "/tmp/ipykernel_385118/4211701222.py:6: RuntimeWarning: Channels contain different highpass filters. Highest filter setting will be stored.\n",
      "  raw = mne.io.read_raw(os.path.join(dataset_base_path, raw_edf_file))\n",
      "/tmp/ipykernel_385118/4211701222.py:6: RuntimeWarning: Channels contain different lowpass filters. Lowest filter setting will be stored.\n",
      "  raw = mne.io.read_raw(os.path.join(dataset_base_path, raw_edf_file))\n"
     ]
    },
    {
     "name": "stdout",
     "output_type": "stream",
     "text": [
      "Extracting EDF parameters from /home/wanhong-huang/EMBC2025-reproduce/data/dataset/epileptic_eeg_dataset/Raw_EDF_Files/p14_Record2.edf...\n",
      "EDF file detected\n",
      "Setting channel info structure...\n",
      "Creating raw.info structure...\n"
     ]
    },
    {
     "name": "stderr",
     "output_type": "stream",
     "text": [
      "/tmp/ipykernel_385118/4211701222.py:6: RuntimeWarning: Channels contain different highpass filters. Highest filter setting will be stored.\n",
      "  raw = mne.io.read_raw(os.path.join(dataset_base_path, raw_edf_file))\n",
      "/tmp/ipykernel_385118/4211701222.py:6: RuntimeWarning: Channels contain different lowpass filters. Lowest filter setting will be stored.\n",
      "  raw = mne.io.read_raw(os.path.join(dataset_base_path, raw_edf_file))\n"
     ]
    },
    {
     "name": "stdout",
     "output_type": "stream",
     "text": [
      "Extracting EDF parameters from /home/wanhong-huang/EMBC2025-reproduce/data/dataset/epileptic_eeg_dataset/Raw_EDF_Files/p10_Record1.edf...\n",
      "EDF file detected\n",
      "Setting channel info structure...\n",
      "Creating raw.info structure...\n",
      "Extracting EDF parameters from /home/wanhong-huang/EMBC2025-reproduce/data/dataset/epileptic_eeg_dataset/Raw_EDF_Files/p10_Record2.edf...\n",
      "EDF file detected\n",
      "Setting channel info structure...\n",
      "Creating raw.info structure...\n",
      "Extracting EDF parameters from /home/wanhong-huang/EMBC2025-reproduce/data/dataset/epileptic_eeg_dataset/Raw_EDF_Files/p13_Record4.edf...\n",
      "EDF file detected\n",
      "Setting channel info structure...\n",
      "Creating raw.info structure...\n"
     ]
    },
    {
     "name": "stderr",
     "output_type": "stream",
     "text": [
      "/tmp/ipykernel_385118/4211701222.py:6: RuntimeWarning: Channels contain different highpass filters. Highest filter setting will be stored.\n",
      "  raw = mne.io.read_raw(os.path.join(dataset_base_path, raw_edf_file))\n",
      "/tmp/ipykernel_385118/4211701222.py:6: RuntimeWarning: Channels contain different lowpass filters. Lowest filter setting will be stored.\n",
      "  raw = mne.io.read_raw(os.path.join(dataset_base_path, raw_edf_file))\n"
     ]
    },
    {
     "name": "stdout",
     "output_type": "stream",
     "text": [
      "Extracting EDF parameters from /home/wanhong-huang/EMBC2025-reproduce/data/dataset/epileptic_eeg_dataset/Raw_EDF_Files/p11_Record1.edf...\n",
      "EDF file detected\n",
      "Setting channel info structure...\n",
      "Creating raw.info structure...\n",
      "Extracting EDF parameters from /home/wanhong-huang/EMBC2025-reproduce/data/dataset/epileptic_eeg_dataset/Raw_EDF_Files/p13_Record1.edf...\n",
      "EDF file detected\n",
      "Setting channel info structure...\n",
      "Creating raw.info structure...\n"
     ]
    },
    {
     "name": "stderr",
     "output_type": "stream",
     "text": [
      "/tmp/ipykernel_385118/4211701222.py:6: RuntimeWarning: Channels contain different highpass filters. Highest filter setting will be stored.\n",
      "  raw = mne.io.read_raw(os.path.join(dataset_base_path, raw_edf_file))\n",
      "/tmp/ipykernel_385118/4211701222.py:6: RuntimeWarning: Channels contain different lowpass filters. Lowest filter setting will be stored.\n",
      "  raw = mne.io.read_raw(os.path.join(dataset_base_path, raw_edf_file))\n",
      "/tmp/ipykernel_385118/4211701222.py:6: RuntimeWarning: Omitted 3 annotation(s) that were outside data range.\n",
      "  raw = mne.io.read_raw(os.path.join(dataset_base_path, raw_edf_file))\n",
      "/tmp/ipykernel_385118/4211701222.py:6: RuntimeWarning: Channels contain different highpass filters. Highest filter setting will be stored.\n",
      "  raw = mne.io.read_raw(os.path.join(dataset_base_path, raw_edf_file))\n",
      "/tmp/ipykernel_385118/4211701222.py:6: RuntimeWarning: Channels contain different lowpass filters. Lowest filter setting will be stored.\n",
      "  raw = mne.io.read_raw(os.path.join(dataset_base_path, raw_edf_file))\n"
     ]
    }
   ],
   "source": [
    "record_times = {\n",
    "    \n",
    "}\n",
    "freq = -1\n",
    "for raw_edf_file in filter(lambda file_name: file_name[-4:] == \".edf\", os.listdir(dataset_base_path)):\n",
    "    raw = mne.io.read_raw(os.path.join(dataset_base_path, raw_edf_file))\n",
    "    record_times[raw_edf_file] = raw.n_times\n",
    "    if freq == -1:\n",
    "        freq = raw.info[\"sfreq\"]\n",
    "    else:\n",
    "        assert raw.info[\"sfreq\"] == freq"
   ]
  },
  {
   "cell_type": "code",
   "execution_count": 35,
   "id": "17e9abf0-ba4b-4f97-8652-9b987da4c40d",
   "metadata": {},
   "outputs": [
    {
     "data": {
      "text/plain": [
       "{'p15_Record4.edf': np.int64(5401500),\n",
       " 'p12_Record2.edf': np.int64(5401500),\n",
       " 'p12_Record1.edf': np.int64(5401500),\n",
       " 'p11_Record2.edf': np.int64(5114000),\n",
       " 'p14_Record1.edf': np.int64(4954000),\n",
       " 'p11_Record4.edf': np.int64(5401500),\n",
       " 'p13_Record3.edf': np.int64(5401500),\n",
       " 'p12_Record3.edf': np.int64(4631000),\n",
       " 'p15_Record3.edf': np.int64(5401500),\n",
       " 'p11_Record3.edf': np.int64(5401500),\n",
       " 'p15_Record2.edf': np.int64(5401500),\n",
       " 'p13_Record2.edf': np.int64(5401500),\n",
       " 'p14_Record3.edf': np.int64(5397500),\n",
       " 'p15_Record1.edf': np.int64(5401500),\n",
       " 'p14_Record2.edf': np.int64(5390500),\n",
       " 'p10_Record1.edf': np.int64(5401500),\n",
       " 'p10_Record2.edf': np.int64(5399500),\n",
       " 'p13_Record4.edf': np.int64(4617000),\n",
       " 'p11_Record1.edf': np.int64(3780000),\n",
       " 'p13_Record1.edf': np.int64(5401500)}"
      ]
     },
     "execution_count": 35,
     "metadata": {},
     "output_type": "execute_result"
    }
   ],
   "source": [
    "record_times"
   ]
  },
  {
   "cell_type": "code",
   "execution_count": 50,
   "id": "205728d4-b4b4-404b-8f73-cf866efdd4be",
   "metadata": {},
   "outputs": [],
   "source": [
    "def select_person(record_times, person_id):\n",
    "    return [key for key in record_times.keys() if key[1:3] == str(person_id)]\n",
    "\n",
    "def total_times(record_times, person_id):\n",
    "    return np.sum([record_times[key] for key in select_person(record_times, person_id)])\n",
    "\n",
    "def to_hours(times, freq):\n",
    "    return times / freq / 3600.0"
   ]
  },
  {
   "cell_type": "code",
   "execution_count": 51,
   "id": "a114efdd-ad5e-4bb0-ac97-37fafab1b23a",
   "metadata": {},
   "outputs": [
    {
     "data": {
      "text/plain": [
       "[np.float64(6.000555555555556),\n",
       " np.float64(10.942777777777778),\n",
       " np.float64(8.574444444444444),\n",
       " np.float64(11.5675),\n",
       " np.float64(8.745555555555555),\n",
       " np.float64(12.003333333333334)]"
      ]
     },
     "execution_count": 51,
     "metadata": {},
     "output_type": "execute_result"
    }
   ],
   "source": [
    "times_each_person = [to_hours(total_times(record_times, person_id), freq) for person_id in range(10, 16)]\n",
    "times_each_person"
   ]
  },
  {
   "cell_type": "code",
   "execution_count": 56,
   "id": "d1ae0d1c-5d5f-42e7-9721-8d5cfaaf9ae8",
   "metadata": {},
   "outputs": [
    {
     "data": {
      "text/plain": [
       "np.float64(43.26750000000001)"
      ]
     },
     "execution_count": 56,
     "metadata": {},
     "output_type": "execute_result"
    }
   ],
   "source": [
    "excluded_records = [\"p14_Record2.edf\", \"p14_Record3.edf\", \"p12_Record3.edf\", \"p10_Record1.edf\", \"p10_Record2.edf\"]\n",
    "np.sum(times_each_person) - np.sum([to_hours(record_times[record], freq) for record in excluded_records])"
   ]
  },
  {
   "cell_type": "code",
   "execution_count": null,
   "id": "ec320e0c-799a-40b3-a41a-530b4f92eb7f",
   "metadata": {},
   "outputs": [],
   "source": []
  }
 ],
 "metadata": {
  "kernelspec": {
   "display_name": "Python 3 (ipykernel)",
   "language": "python",
   "name": "python3"
  },
  "language_info": {
   "codemirror_mode": {
    "name": "ipython",
    "version": 3
   },
   "file_extension": ".py",
   "mimetype": "text/x-python",
   "name": "python",
   "nbconvert_exporter": "python",
   "pygments_lexer": "ipython3",
   "version": "3.9.21"
  }
 },
 "nbformat": 4,
 "nbformat_minor": 5
}
